{
 "cells": [
  {
   "cell_type": "markdown",
   "metadata": {},
   "source": [
    "## Giới thiệu\n",
    "Tiền xử lý văn bản là một bước thiết yếu trong **xử lý ngôn ngữ tự nhiên** (NLP) bao gồm việc làm sạch và chuyển đổi dữ liệu văn bản phi cấu trúc để chuẩn bị cho việc phân tích. Nó bao gồm **tokenization , stemming , lemmatization, stop-word removal và part-of-speech tagging**. Trong bài viết này, chúng tôi sẽ giới thiệu những điều cơ bản về tiền xử lý văn bản và cung cấp các ví dụ mã **Python** để minh họa cách triển khai các tác vụ này bằng **thư viện NLTK** .\n",
    "\n",
    "### Kết quả học tập\n",
    "\n",
    "- Tìm hiểu về các bước thiết yếu trong quá trình xử lý văn bản trước bằng Python, bao gồm phân tách từ, tách gốc, tách từ nguyên và loại bỏ từ dừng.\n",
    "- Khám phá tầm quan trọng của việc xử lý trước văn bản trong việc cải thiện chất lượng dữ liệu và giảm nhiễu để phân tích NLP hiệu quả.\n",
    "- Với các ví dụ mã thực tế, bạn có thể học cách dọn dẹp và chuẩn bị dữ liệu văn bản bằng Python và thư viện NLTK.\n",
    "- Khám phá sự khác biệt giữa phương pháp rút gọn và phương pháp từ nguyên và tác động của chúng đến nghĩa của từ và ngữ cảnh.\n",
    "- Hiểu được ứng dụng của các kỹ thuật xử lý trước trên dữ liệu thư rác SMS để chuẩn bị cho việc xây dựng mô hình."
   ]
  },
  {
   "cell_type": "markdown",
   "metadata": {},
   "source": [
    "### Mục lục\n",
    "1. Giới thiệu\n",
    "2. Tiền xử lý văn bản trong NLP là gì?\n",
    "3. Tại sao xử lý văn bản trước lại quan trọng?\n",
    "4. Dữ liệu thư rác SMS để xử lý trước văn bản\n",
    "5. Các bước để làm sạch dữ liệu\n",
    "- Xóa bỏ dấu câu(Punctuation removal)\n",
    "- Hạ thấp văn bản(lowering the text)\n",
    "- Mã hóa(Tokenization)\n",
    "- Loại bỏ từ dừng(Stopword removal)\n",
    "- Nhét đầy(Stemming)\n",
    "- Lemmat hóa(Lemmatization)\n",
    "\n",
    "### So sánh Stemming và Lemmatization\n",
    "- Độ chính xác: Lemmatization thường chính xác hơn vì nó xem xét ngữ cảnh và sử dụng từ điển, trong khi stemming chỉ cắt bỏ các phần cuối của từ.\n",
    "- Hiệu suất: Stemming nhanh hơn vì nó áp dụng các quy tắc đơn giản và không yêu cầu tra cứu từ điển.\n",
    "- Kết quả: Lemmatization tạo ra các từ có nghĩa và đúng ngữ cảnh, trong khi stemming có thể tạo ra các từ không có nghĩa.\n",
    "\n",
    "6. Phần kết luận\n",
    "7. Những câu hỏi thường gặp"
   ]
  },
  {
   "cell_type": "markdown",
   "metadata": {},
   "source": []
  }
 ],
 "metadata": {
  "kernelspec": {
   "display_name": "dltorch",
   "language": "python",
   "name": "python3"
  },
  "language_info": {
   "codemirror_mode": {
    "name": "ipython",
    "version": 3
   },
   "file_extension": ".py",
   "mimetype": "text/x-python",
   "name": "python",
   "nbconvert_exporter": "python",
   "pygments_lexer": "ipython3",
   "version": "3.12.2"
  }
 },
 "nbformat": 4,
 "nbformat_minor": 2
}
