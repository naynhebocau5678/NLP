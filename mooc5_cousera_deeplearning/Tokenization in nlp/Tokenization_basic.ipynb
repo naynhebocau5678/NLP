{
 "cells": [
  {
   "cell_type": "markdown",
   "metadata": {},
   "source": [
    "<h1 style=\"text-align: center;\">Cách bắt đầu với NLP – 6 phương pháp độc đáo để thực hiện mã hóa</h1>\n",
    "\n",
    "### Mục lục\n",
    "1. Tokenization là gì?\n",
    "2. Các loại mã hóa trong Python?\n",
    "3. Tại sao cần phải sử dụng Tokenization trong NLP?\n",
    "4. Phương pháp thực hiện Tokenization trong Python\n",
    "- Phân chia mã thông báo bằng hàm split() của Python\n",
    "- Phân tích cú pháp bằng cách sử dụng Biểu thức chính quy (RegEx)\n",
    "- Mã hóa bằng NLTK\n",
    "- Mã hóa bằng thư viện spaCy\n",
    "- Mã hóa bằng Keras\n",
    "- Mã hóa bằng Gensim\n",
    "5. Phần kết luận\n"
   ]
  },
  {
   "attachments": {
    "image.png": {
     "image/png": "[encoded data removed]"
    }
   },
   "cell_type": "markdown",
   "metadata": {},
   "source": [
    "## 1.Tokenization là gì\n",
    "Tokenization trong Python về cơ bản là chia một cụm từ, câu, đoạn văn hoặc toàn bộ tài liệu văn bản thành các đơn vị nhỏ hơn, chẳng hạn như các từ hoặc thuật ngữ riêng lẻ. Mỗi đơn vị nhỏ hơn này được gọi là token.\n",
    "\n",
    "Hãy xem hình ảnh bên dưới để hình dung định nghĩa này:\n",
    "\n",
    "![image.png](attachment:image.png)\n",
    "\n",
    "Các mã thông báo có thể là từ, số hoặc dấu chấm câu. Trong mã thông báo, các đơn vị nhỏ hơn được tạo ra bằng cách xác định ranh giới từ. Đợi đã – ranh giới từ( word boundaries) là gì?\n",
    "\n",
    "Đây là điểm kết thúc của một từ và là điểm bắt đầu của từ tiếp theo. Các token này được coi là bước đầu tiên để stemming và lemmatization (giai đoạn tiếp theo trong quá trình tiền xử lý văn bản mà chúng ta sẽ đề cập trong bài viết tiếp theo)."
   ]
  },
  {
   "cell_type": "markdown",
   "metadata": {},
   "source": [
    "## Các loại tokenization trong Python?\n",
    "**Ba loại tokenization đơn giản trong Python :**\n",
    "\n",
    "**1. Phân chia từ(Word Tokenization):** Chia một câu thành các từ riêng lẻ.\n",
    "**2. Phân chia câu(Sentence Tokenization):** Chia một đoạn văn thành các câu riêng biệt.\n",
    "**3. Phân chia biểu thức chính quy(Regular Expression Tokenization):** Sử dụng các mẫu để phân chia văn bản dựa trên các quy tắc hoặc điều kiện cụ thể.\n",
    "\n",
    "## Tại sao cần phải sử dụng Tokenization trong NLP?\n",
    "\n",
    "Trước khi xử lý ngôn ngữ tự nhiên, chúng ta cần xác định các từ tạo nên chuỗi ký tự. Đó là lý do tại sao phân loại là bước cơ bản nhất để tiến hành NLP (dữ liệu văn bản). Điều này quan trọng vì ý nghĩa của văn bản có thể dễ dàng được diễn giải bằng cách phân tích các từ có trong văn bản.\n",
    "\n",
    "Hãy lấy một ví dụ. Hãy xem xét chuỗi bên dưới:\n",
    "\n",
    "“This is a cat.”\n",
    "\n",
    "Bạn nghĩ điều gì sẽ xảy ra sau khi chúng ta thực hiện tokenization trên chuỗi này? Chúng ta có ['This', 'is', 'a', cat'].\n",
    "\n",
    "Có rất nhiều cách sử dụng để làm điều này. Chúng ta có thể sử dụng biểu mẫu được mã hóa này để:\n",
    "\n",
    "- Đếm số lượng từ trong văn bản\n",
    "- Đếm tần suất của từ, tức là số lần một từ cụ thể xuất hiện\n",
    "\n",
    "Và vân vân. Chúng ta có thể trích xuất nhiều thông tin hơn nữa mà chúng ta sẽ thảo luận chi tiết trong các bài viết sau. Bây giờ, đã đến lúc đi sâu vào nội dung chính của bài viết này – các phương pháp khác nhau để thực hiện tokenization trong NLP."
   ]
  },
  {
   "cell_type": "markdown",
   "metadata": {},
   "source": [
    "## Phương pháp thực hiện Tokenization trong Python\n",
    "\n",
    "Chúng ta sẽ xem xét sáu cách độc đáo để thực hiện mã hóa trong Python trên dữ liệu văn bản. Tôi đã cung cấp mã Python cho từng phương pháp để bạn có thể theo dõi trên máy của mình.\n",
    "\n",
    "### Phân chia mã thông báo bằng hàm split() của Python\n",
    "\n",
    "Hãy bắt đầu với phương thức split() vì đây là phương thức cơ bản nhất. Nó trả về danh sách các chuỗi sau khi ngắt chuỗi đã cho bằng dấu phân cách được chỉ định. Theo mặc định, split() ngắt chuỗi tại mỗi khoảng trắng. Chúng ta có thể thay đổi dấu phân cách thành bất kỳ dấu nào. Hãy cùng kiểm tra.\n",
    "\n",
    "**Word Tokenization**"
   ]
  },
  {
   "cell_type": "code",
   "execution_count": 5,
   "metadata": {},
   "outputs": [
    {
     "data": {
      "text/plain": [
       "['Founded',\n",
       " 'in',\n",
       " '2002,',\n",
       " 'SpaceX’s',\n",
       " 'mission',\n",
       " 'is',\n",
       " 'to',\n",
       " 'enable',\n",
       " 'humans',\n",
       " 'to',\n",
       " 'become',\n",
       " 'a',\n",
       " 'spacefaring',\n",
       " 'civilization',\n",
       " 'and',\n",
       " 'a',\n",
       " 'multi-planet',\n",
       " 'species',\n",
       " 'by',\n",
       " 'building',\n",
       " 'a',\n",
       " 'self-sustaining',\n",
       " 'city',\n",
       " 'on',\n",
       " 'Mars.',\n",
       " 'In',\n",
       " '2008,',\n",
       " 'SpaceX’s',\n",
       " 'Falcon',\n",
       " '1',\n",
       " 'became',\n",
       " 'the',\n",
       " 'first',\n",
       " 'privately',\n",
       " 'developed',\n",
       " 'liquid-fuel',\n",
       " 'launch',\n",
       " 'vehicle',\n",
       " 'to',\n",
       " 'orbit',\n",
       " 'the',\n",
       " 'Earth.']"
      ]
     },
     "execution_count": 5,
     "metadata": {},
     "output_type": "execute_result"
    }
   ],
   "source": [
    "text = \"\"\"Founded in 2002, SpaceX’s mission is to enable humans to become a spacefaring civilization and a multi-planet \n",
    "species by building a self-sustaining city on Mars. In 2008, SpaceX’s Falcon 1 became the first privately developed \n",
    "liquid-fuel launch vehicle to orbit the Earth.\"\"\"\n",
    "# Splits at space \n",
    "text.split() "
   ]
  },
  {
   "cell_type": "markdown",
   "metadata": {},
   "source": [
    "**Sentence Tokenization**\n",
    "\n",
    "Điều này tương tự như việc phân chia từ. Ở đây, chúng ta nghiên cứu cấu trúc câu trong phần phân tích. Một câu thường kết thúc bằng dấu chấm (.), vì vậy chúng ta có thể sử dụng dấu “.” làm dấu phân cách để ngắt chuỗi:"
   ]
  },
  {
   "cell_type": "code",
   "execution_count": 2,
   "metadata": {},
   "outputs": [
    {
     "data": {
      "text/plain": [
       "['Founded in 2002, SpaceX’s mission is to enable humans to become a spacefaring civilization and a multi-planet \\nspecies by building a self-sustaining city on Mars',\n",
       " 'In 2008, SpaceX’s Falcon 1 became the first privately developed \\nliquid-fuel launch vehicle to orbit the Earth.']"
      ]
     },
     "execution_count": 2,
     "metadata": {},
     "output_type": "execute_result"
    }
   ],
   "source": [
    "text = \"\"\"Founded in 2002, SpaceX’s mission is to enable humans to become a spacefaring civilization and a multi-planet \n",
    "species by building a self-sustaining city on Mars. In 2008, SpaceX’s Falcon 1 became the first privately developed \n",
    "liquid-fuel launch vehicle to orbit the Earth.\"\"\"\n",
    "# Splits at space \n",
    "text.split('. ') "
   ]
  },
  {
   "cell_type": "markdown",
   "metadata": {},
   "source": [
    "Một nhược điểm lớn khi sử dụng phương thức split() của Python là chúng ta chỉ có thể sử dụng một dấu phân cách tại một thời điểm. Một điều cần lưu ý nữa – trong việc phân chia từ, split() không coi dấu chấm câu là một dấu hiệu riêng biệt."
   ]
  },
  {
   "cell_type": "markdown",
   "metadata": {},
   "source": [
    "### Phân tích cú pháp bằng cách sử dụng Biểu thức chính quy (RegEx)\n",
    "\n",
    "Trước tiên, chúng ta hãy hiểu biểu thức chính quy là gì. Về cơ bản, đây là một chuỗi ký tự đặc biệt giúp bạn khớp hoặc tìm các chuỗi hoặc tập hợp chuỗi khác bằng cách sử dụng chuỗi đó làm mẫu.\n",
    "\n",
    "Chúng ta có thể sử dụng thư viện re trong Python để làm việc với biểu thức chính quy. Thư viện này được cài đặt sẵn trong gói cài đặt Python.\n",
    "\n",
    "Bây giờ, chúng ta hãy thực hiện phân chia từ và phân chia câu theo RegEx.\n",
    "\n",
    "**Word Tokenization**"
   ]
  },
  {
   "cell_type": "code",
   "execution_count": 6,
   "metadata": {},
   "outputs": [
    {
     "name": "stdout",
     "output_type": "stream",
     "text": [
      "['Founded', 'in', '2002', 'SpaceX', 's', 'mission', 'is', 'to', 'enable', 'humans', 'to', 'become', 'a', 'spacefaring', 'civilization', 'and', 'a', 'multi', 'planet', 'species', 'by', 'building', 'a', 'self', 'sustaining', 'city', 'on', 'Mars', 'In', '2008', 'SpaceX', 's', 'Falcon', '1', 'became', 'the', 'first', 'privately', 'developed', 'liquid', 'fuel', 'launch', 'vehicle', 'to', 'orbit', 'the', 'Earth']\n"
     ]
    }
   ],
   "source": [
    "import re\n",
    "text = \"\"\"Founded in 2002, SpaceX’s mission is to enable humans to become a spacefaring civilization and a multi-planet \n",
    "species by building a self-sustaining city on Mars. In 2008, SpaceX’s Falcon 1 became the first privately developed \n",
    "liquid-fuel launch vehicle to orbit the Earth.\"\"\"\n",
    "tokens = re.findall(\"[\\w']+\", text)\n",
    "print(tokens)"
   ]
  },
  {
   "cell_type": "markdown",
   "metadata": {},
   "source": [
    "Hàm  re.findall()  tìm tất cả các từ khớp với mẫu được truyền vào và lưu trữ vào danh sách.\n",
    "\n",
    "“ \\w” biểu thị “bất kỳ ký tự chữ nào” thường có nghĩa là chữ số (chữ cái, số) và dấu gạch dưới (_). '+' có nghĩa là bất kỳ số lần nào. Vì vậy,  [\\w']+  báo hiệu rằng mã sẽ tìm tất cả các ký tự chữ số cho đến khi gặp bất kỳ ký tự nào khác.\n",
    "\n",
    "Để thực hiện phân tách câu, chúng ta có thể sử dụng  hàm re.split()  . Hàm này sẽ chia văn bản thành các câu bằng cách truyền một mẫu vào đó."
   ]
  },
  {
   "cell_type": "code",
   "execution_count": 7,
   "metadata": {},
   "outputs": [
    {
     "data": {
      "text/plain": [
       "['Founded in 2002, SpaceX’s mission is to enable humans to become a spacefaring civilization and a multi-planet \\nspecies by building a self-sustaining city on, Mars',\n",
       " 'In 2008, SpaceX’s Falcon 1 became the first privately developed \\nliquid-fuel launch vehicle to orbit the Earth.']"
      ]
     },
     "execution_count": 7,
     "metadata": {},
     "output_type": "execute_result"
    }
   ],
   "source": [
    "import re\n",
    "text = \"\"\"Founded in 2002, SpaceX’s mission is to enable humans to become a spacefaring civilization and a multi-planet \n",
    "species by building a self-sustaining city on, Mars. In 2008, SpaceX’s Falcon 1 became the first privately developed \n",
    "liquid-fuel launch vehicle to orbit the Earth.\"\"\"\n",
    "sentences = re.compile('[.!?] ').split(text)\n",
    "sentences"
   ]
  },
  {
   "cell_type": "markdown",
   "metadata": {},
   "source": [
    "Ở đây, chúng ta có lợi thế hơn phương thức split() vì chúng ta có thể truyền nhiều dấu phân cách cùng lúc. Trong đoạn mã trên, chúng ta đã sử dụng hàm re.compile() trong đó chúng ta truyền [.?!]. Điều này có nghĩa là các câu sẽ được tách ra ngay khi gặp bất kỳ ký tự nào trong số này."
   ]
  },
  {
   "cell_type": "markdown",
   "metadata": {},
   "source": [
    "## Tokenization bằng NLTK\n",
    "Đây là một thư viện mà bạn sẽ đánh giá cao khi làm việc nhiều hơn với dữ liệu văn bản. NLTK , viết tắt của Natural Language ToolKit, là một thư viện được viết bằng Python để Xử lý ngôn ngữ tự nhiên theo biểu tượng và thống kê.\n",
    "\n",
    "NLTK chứa một mô-đun gọi là tokenize() được phân loại thành hai tiểu loại:\n",
    "\n",
    "- Phân chia từ: Chúng tôi sử dụng phương thức word_tokenize() để chia một câu thành các mã thông báo hoặc từ\n",
    "- Phân chia câu: Chúng tôi sử dụng phương thức sent_tokenize() để chia một tài liệu hoặc đoạn văn thành các câu\n",
    "Chúng ta hãy cùng xem xét từng cái một.\n",
    "\n",
    "**Word Tokenization**"
   ]
  },
  {
   "cell_type": "code",
   "execution_count": 8,
   "metadata": {},
   "outputs": [
    {
     "data": {
      "text/plain": [
       "['Founded',\n",
       " 'in',\n",
       " '2002',\n",
       " ',',\n",
       " 'SpaceX',\n",
       " '’',\n",
       " 's',\n",
       " 'mission',\n",
       " 'is',\n",
       " 'to',\n",
       " 'enable',\n",
       " 'humans',\n",
       " 'to',\n",
       " 'become',\n",
       " 'a',\n",
       " 'spacefaring',\n",
       " 'civilization',\n",
       " 'and',\n",
       " 'a',\n",
       " 'multi-planet',\n",
       " 'species',\n",
       " 'by',\n",
       " 'building',\n",
       " 'a',\n",
       " 'self-sustaining',\n",
       " 'city',\n",
       " 'on',\n",
       " 'Mars',\n",
       " '.',\n",
       " 'In',\n",
       " '2008',\n",
       " ',',\n",
       " 'SpaceX',\n",
       " '’',\n",
       " 's',\n",
       " 'Falcon',\n",
       " '1',\n",
       " 'became',\n",
       " 'the',\n",
       " 'first',\n",
       " 'privately',\n",
       " 'developed',\n",
       " 'liquid-fuel',\n",
       " 'launch',\n",
       " 'vehicle',\n",
       " 'to',\n",
       " 'orbit',\n",
       " 'the',\n",
       " 'Earth',\n",
       " '.']"
      ]
     },
     "execution_count": 8,
     "metadata": {},
     "output_type": "execute_result"
    }
   ],
   "source": [
    "from nltk.tokenize import word_tokenize \n",
    "text = \"\"\"Founded in 2002, SpaceX’s mission is to enable humans to become a spacefaring civilization and a multi-planet \n",
    "species by building a self-sustaining city on Mars. In 2008, SpaceX’s Falcon 1 became the first privately developed \n",
    "liquid-fuel launch vehicle to orbit the Earth.\"\"\"\n",
    "word_tokenize(text)"
   ]
  },
  {
   "cell_type": "markdown",
   "metadata": {},
   "source": [
    "Lưu ý cách NLTK coi dấu câu là một token? Do đó, đối với các tác vụ trong tương lai, chúng ta cần xóa dấu câu khỏi danh sách ban đầu.\n",
    "\n",
    "**Sentence Tokenization**"
   ]
  },
  {
   "cell_type": "code",
   "execution_count": 9,
   "metadata": {},
   "outputs": [
    {
     "data": {
      "text/plain": [
       "['Founded in 2002, SpaceX’s mission is to enable humans to become a spacefaring civilization and a multi-planet \\nspecies by building a self-sustaining city on Mars.',\n",
       " 'In 2008, SpaceX’s Falcon 1 became the first privately developed \\nliquid-fuel launch vehicle to orbit the Earth.']"
      ]
     },
     "execution_count": 9,
     "metadata": {},
     "output_type": "execute_result"
    }
   ],
   "source": [
    "from nltk.tokenize import sent_tokenize\n",
    "text = \"\"\"Founded in 2002, SpaceX’s mission is to enable humans to become a spacefaring civilization and a multi-planet \n",
    "species by building a self-sustaining city on Mars. In 2008, SpaceX’s Falcon 1 became the first privately developed \n",
    "liquid-fuel launch vehicle to orbit the Earth.\"\"\"\n",
    "sent_tokenize(text)"
   ]
  },
  {
   "cell_type": "markdown",
   "metadata": {},
   "source": [
    "## Tokenization bằng spaCy\n",
    "\n",
    "spaCy là một thư viện mã nguồn mở cho Xử lý ngôn ngữ tự nhiên (NLP) nâng cao. Nó hỗ trợ hơn 49 ngôn ngữ và cung cấp tốc độ tính toán tiên tiến."
   ]
  },
  {
   "cell_type": "code",
   "execution_count": 10,
   "metadata": {},
   "outputs": [
    {
     "data": {
      "text/plain": [
       "['Founded',\n",
       " 'in',\n",
       " '2002',\n",
       " ',',\n",
       " 'SpaceX',\n",
       " '’s',\n",
       " 'mission',\n",
       " 'is',\n",
       " 'to',\n",
       " 'enable',\n",
       " 'humans',\n",
       " 'to',\n",
       " 'become',\n",
       " 'a',\n",
       " 'spacefaring',\n",
       " 'civilization',\n",
       " 'and',\n",
       " 'a',\n",
       " 'multi',\n",
       " '-',\n",
       " 'planet',\n",
       " '\\n',\n",
       " 'species',\n",
       " 'by',\n",
       " 'building',\n",
       " 'a',\n",
       " 'self',\n",
       " '-',\n",
       " 'sustaining',\n",
       " 'city',\n",
       " 'on',\n",
       " 'Mars',\n",
       " '.',\n",
       " 'In',\n",
       " '2008',\n",
       " ',',\n",
       " 'SpaceX',\n",
       " '’s',\n",
       " 'Falcon',\n",
       " '1',\n",
       " 'became',\n",
       " 'the',\n",
       " 'first',\n",
       " 'privately',\n",
       " 'developed',\n",
       " '\\n',\n",
       " 'liquid',\n",
       " '-',\n",
       " 'fuel',\n",
       " 'launch',\n",
       " 'vehicle',\n",
       " 'to',\n",
       " 'orbit',\n",
       " 'the',\n",
       " 'Earth',\n",
       " '.']"
      ]
     },
     "execution_count": 10,
     "metadata": {},
     "output_type": "execute_result"
    }
   ],
   "source": [
    "import spacy\n",
    "\n",
    "# Load English tokenizer, tagger, parser, NER and word vectors\n",
    "nlp = spacy.load('en_core_web_sm')\n",
    "\n",
    "text = \"\"\"Founded in 2002, SpaceX’s mission is to enable humans to become a spacefaring civilization and a multi-planet \n",
    "species by building a self-sustaining city on Mars. In 2008, SpaceX’s Falcon 1 became the first privately developed \n",
    "liquid-fuel launch vehicle to orbit the Earth.\"\"\"\n",
    "\n",
    "#  \"nlp\" Object is used to create documents with linguistic annotations.\n",
    "my_doc = nlp(text)\n",
    "\n",
    "# Create list of word tokens\n",
    "token_list = []\n",
    "for token in my_doc:\n",
    "    token_list.append(token.text)\n",
    "token_list"
   ]
  },
  {
   "cell_type": "markdown",
   "metadata": {},
   "source": [
    "**Sentence Tokenization**"
   ]
  },
  {
   "cell_type": "code",
   "execution_count": 11,
   "metadata": {},
   "outputs": [
    {
     "name": "stdout",
     "output_type": "stream",
     "text": [
      "['Founded in 2002, SpaceX’s mission is to enable humans to become a spacefaring civilization and a multi-planet \\nspecies by building a self-sustaining city on Mars.', 'In 2008, SpaceX’s Falcon 1 became the first privately developed \\nliquid-fuel launch vehicle to orbit the Earth.']\n"
     ]
    }
   ],
   "source": [
    "import spacy\n",
    "\n",
    "# Tải mô hình tiếng Anh đầy đủ\n",
    "nlp = spacy.load(\"en_core_web_sm\")\n",
    "\n",
    "text = \"\"\"Founded in 2002, SpaceX’s mission is to enable humans to become a spacefaring civilization and a multi-planet \n",
    "species by building a self-sustaining city on Mars. In 2008, SpaceX’s Falcon 1 became the first privately developed \n",
    "liquid-fuel launch vehicle to orbit the Earth.\"\"\"\n",
    "\n",
    "# \"nlp\" Object is used to create documents with linguistic annotations.\n",
    "doc = nlp(text)\n",
    "list_sent=[]\n",
    "# sents_list = [sent.text for sent in doc.sents]\n",
    "# Create list of sentence tokens\n",
    "for sent in doc.sents:\n",
    "    list_sent.append(sent.text)\n",
    "\n",
    "print(list_sent)\n"
   ]
  },
  {
   "cell_type": "markdown",
   "metadata": {},
   "source": [
    "## Tokenization bằng keras\n",
    "\n",
    "**Word Tokenization**"
   ]
  },
  {
   "cell_type": "code",
   "execution_count": 12,
   "metadata": {},
   "outputs": [
    {
     "data": {
      "text/plain": [
       "['founded',\n",
       " 'in',\n",
       " '2002',\n",
       " 'spacex’s',\n",
       " 'mission',\n",
       " 'is',\n",
       " 'to',\n",
       " 'enable',\n",
       " 'humans',\n",
       " 'to',\n",
       " 'become',\n",
       " 'a',\n",
       " 'spacefaring',\n",
       " 'civilization',\n",
       " 'and',\n",
       " 'a',\n",
       " 'multi',\n",
       " 'planet',\n",
       " 'species',\n",
       " 'by',\n",
       " 'building',\n",
       " 'a',\n",
       " 'self',\n",
       " 'sustaining',\n",
       " 'city',\n",
       " 'on',\n",
       " 'mars',\n",
       " 'in',\n",
       " '2008',\n",
       " 'spacex’s',\n",
       " 'falcon',\n",
       " '1',\n",
       " 'became',\n",
       " 'the',\n",
       " 'first',\n",
       " 'privately',\n",
       " 'developed',\n",
       " 'liquid',\n",
       " 'fuel',\n",
       " 'launch',\n",
       " 'vehicle',\n",
       " 'to',\n",
       " 'orbit',\n",
       " 'the',\n",
       " 'earth']"
      ]
     },
     "execution_count": 12,
     "metadata": {},
     "output_type": "execute_result"
    }
   ],
   "source": [
    "from tensorflow.keras.preprocessing.text import text_to_word_sequence\n",
    "\n",
    "# define\n",
    "text = \"\"\"Founded in 2002, SpaceX’s mission is to enable humans to become a spacefaring civilization and a multi-planet \n",
    "species by building a self-sustaining city on Mars. In 2008, SpaceX’s Falcon 1 became the first privately developed \n",
    "liquid-fuel launch vehicle to orbit the Earth.\"\"\"\n",
    "# tokenize\n",
    "result = text_to_word_sequence(text)\n",
    "result"
   ]
  },
  {
   "cell_type": "markdown",
   "metadata": {},
   "source": [
    "Keras hạ thấp chữ hoa của tất cả các chữ cái trước khi phân tách chúng. Điều đó giúp chúng ta tiết kiệm khá nhiều thời gian như bạn có thể tưởng tượng!"
   ]
  },
  {
   "cell_type": "markdown",
   "metadata": {},
   "source": [
    "## Tokenization bằng gensim\n",
    "\n",
    "Phương pháp mã hóa cuối cùng mà chúng tôi sẽ đề cập ở đây là sử dụng thư viện Gensim. Đây là thư viện mã nguồn mở cho mô hình chủ đề không giám sát và xử lý ngôn ngữ tự nhiên và được thiết kế để tự động trích xuất các chủ đề ngữ nghĩa từ một tài liệu nhất định."
   ]
  },
  {
   "cell_type": "code",
   "execution_count": 1,
   "metadata": {},
   "outputs": [
    {
     "data": {
      "text/plain": [
       "'4.3.3'"
      ]
     },
     "execution_count": 1,
     "metadata": {},
     "output_type": "execute_result"
    }
   ],
   "source": [
    "import gensim\n",
    "gensim.__version__"
   ]
  },
  {
   "cell_type": "code",
   "execution_count": 13,
   "metadata": {},
   "outputs": [
    {
     "data": {
      "text/plain": [
       "['Founded',\n",
       " 'in',\n",
       " 'SpaceX',\n",
       " 's',\n",
       " 'mission',\n",
       " 'is',\n",
       " 'to',\n",
       " 'enable',\n",
       " 'humans',\n",
       " 'to',\n",
       " 'become',\n",
       " 'a',\n",
       " 'spacefaring',\n",
       " 'civilization',\n",
       " 'and',\n",
       " 'a',\n",
       " 'multi',\n",
       " 'planet',\n",
       " 'species',\n",
       " 'by',\n",
       " 'building',\n",
       " 'a',\n",
       " 'self',\n",
       " 'sustaining',\n",
       " 'city',\n",
       " 'on',\n",
       " 'Mars',\n",
       " 'In',\n",
       " 'SpaceX',\n",
       " 's',\n",
       " 'Falcon',\n",
       " 'became',\n",
       " 'the',\n",
       " 'first',\n",
       " 'privately',\n",
       " 'developed',\n",
       " 'liquid',\n",
       " 'fuel',\n",
       " 'launch',\n",
       " 'vehicle',\n",
       " 'to',\n",
       " 'orbit',\n",
       " 'the',\n",
       " 'Earth']"
      ]
     },
     "execution_count": 13,
     "metadata": {},
     "output_type": "execute_result"
    }
   ],
   "source": [
    "from gensim.utils import tokenize\n",
    "text = \"\"\"Founded in 2002, SpaceX’s mission is to enable humans to become a spacefaring civilization and a multi-planet \n",
    "species by building a self-sustaining city on Mars. In 2008, SpaceX’s Falcon 1 became the first privately developed \n",
    "liquid-fuel launch vehicle to orbit the Earth.\"\"\"\n",
    "list(tokenize(text))"
   ]
  },
  {
   "cell_type": "markdown",
   "metadata": {},
   "source": [
    "## Phần kết luận\n",
    "Tóm lại, tokenization đóng vai trò là nền tảng của bất kỳ đường ống NLP nào, cho phép máy móc xử lý và phân tích dữ liệu văn bản một cách hiệu quả. Bằng cách chia văn bản thành các token có thể quản lý được, chúng tôi mở ra cánh cửa cho các kỹ thuật tiên tiến như lemmatization, gắn thẻ loại từ và phân tích tình cảm. Trong số các phương pháp khác nhau có sẵn, tokenization sử dụng NLTK nổi bật vì tính đơn giản và mạnh mẽ của nó. Cho dù bạn đang chia văn bản thành các từ hay câu, tokenization trong NLTK cung cấp các công cụ mạnh mẽ như word_tokenize và sent_tokenize để xử lý sự phức tạp của ngôn ngữ tự nhiên. Làm chủ tokenization là một bước quan trọng để mở khóa toàn bộ tiềm năng của NLP trong Python."
   ]
  },
  {
   "cell_type": "markdown",
   "metadata": {},
   "source": []
  }
 ],
 "metadata": {
  "kernelspec": {
   "display_name": "pytorchdl",
   "language": "python",
   "name": "python3"
  },
  "language_info": {
   "codemirror_mode": {
    "name": "ipython",
    "version": 3
   },
   "file_extension": ".py",
   "mimetype": "text/x-python",
   "name": "python",
   "nbconvert_exporter": "python",
   "pygments_lexer": "ipython3",
   "version": "3.10.15"
  }
 },
 "nbformat": 4,
 "nbformat_minor": 2
}
