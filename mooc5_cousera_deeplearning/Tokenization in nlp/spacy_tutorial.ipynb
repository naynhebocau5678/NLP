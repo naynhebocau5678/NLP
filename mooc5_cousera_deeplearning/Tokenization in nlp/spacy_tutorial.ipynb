{
 "cells": [
  {
   "cell_type": "markdown",
   "metadata": {},
   "source": [
    "1. Introduction\n",
    "2. Getting Started with spaCy\n",
    "- spaCy’s Statistical Models\n",
    "- spaCy’s Processing Pipeline\n",
    "3. spaCy in Action\n",
    "- 1. Part-of-Speech (POS) Tagging using spaCy\n",
    "- 2. Dependency Parsing using spaCy\n",
    "- 3. Named Entity Recognition using spaCy\n",
    "- 4. Rule-Based Matching using spaCy\n",
    "4. Conclusion"
   ]
  },
  {
   "cell_type": "markdown",
   "metadata": {},
   "source": [
    "# Bắt đầu với spaCy\n",
    "Nếu bạn mới biết đến spaCy, có một số điều bạn cần lưu ý:\n",
    "\n",
    "spaCy’s Statistical Models\n",
    "spaCy’s Processing Pipeline\n",
    "\n",
    "Chúng ta hãy thảo luận chi tiết từng vấn đề.\n",
    "\n",
    "## Các mô hình thống kê của spaCy\n",
    "\n",
    "Các mô hình này là động cơ điện của spaCy. Các mô hình này cho phép spaCy thực hiện một số tác vụ liên quan đến NLP, chẳng hạn như gắn thẻ từ loại, nhận dạng thực thể được đặt tên và phân tích phụ thuộc.\n",
    "\n",
    "Tôi đã liệt kê bên dưới các mô hình thống kê khác nhau trong spaCy cùng với thông số kỹ thuật của chúng:\n",
    "\n",
    "- en_core_web_sm: CNN đa nhiệm tiếng Anh được đào tạo trên OntoNotes. Kích thước – 11 MB\n",
    "- en_core_web_md: CNN đa nhiệm tiếng Anh được đào tạo trên OntoNotes, với các vectơ GloVe được đào tạo trên Common Crawl. Kích thước – 91 MB\n",
    "- en_core_web_lg: CNN đa nhiệm tiếng Anh được đào tạo trên OntoNotes, với các vectơ GloVe được đào tạo trên Common Crawl. Kích thước – 789 MB\n",
    "\n",
    "Việc nhập các mô hình này cực kỳ dễ dàng. Chúng ta có thể nhập một mô hình chỉ bằng cách thực thi spacy.load('model_name') như được hiển thị bên dưới:"
   ]
  },
  {
   "cell_type": "code",
   "execution_count": 2,
   "metadata": {},
   "outputs": [],
   "source": [
    "import spacy\n",
    "nlp = spacy.load('en_core_web_sm')"
   ]
  },
  {
   "attachments": {
    "image.png": {
     "image/png": "[encoded data removed]"
    }
   },
   "cell_type": "markdown",
   "metadata": {},
   "source": [
    "## Đường ống xử lý của spaCy\n",
    "Bước đầu tiên đối với chuỗi văn bản, khi làm việc với spaCy, là truyền nó đến một đối tượng NLP . Đối tượng này về cơ bản là một đường ống gồm một số hoạt động xử lý trước văn bản mà chuỗi văn bản đầu vào phải trải qua.\n",
    "\n",
    "![image.png](attachment:image.png)\n",
    "\n",
    "Như bạn có thể thấy trong hình trên, quy trình NLP có nhiều thành phần, chẳng hạn như tokenizer , tagger , parser , ner , v.v. Vì vậy, chuỗi văn bản đầu vào phải đi qua tất cả các thành phần này trước khi chúng ta có thể làm việc với nó.\n",
    "\n",
    "Để tôi chỉ cho bạn cách tạo một đối tượng NLP :\n",
    "\n",
    "Bạn có thể sử dụng mã bên dưới để tìm ra các thành phần đường ống đang hoạt động:\n",
    "```nlp.pipe_names```"
   ]
  },
  {
   "cell_type": "code",
   "execution_count": 3,
   "metadata": {},
   "outputs": [
    {
     "data": {
      "text/plain": [
       "['tok2vec', 'tagger', 'parser', 'attribute_ruler', 'lemmatizer', 'ner']"
      ]
     },
     "execution_count": 3,
     "metadata": {},
     "output_type": "execute_result"
    }
   ],
   "source": [
    "import spacy\n",
    "nlp = spacy.load('en_core_web_sm')\n",
    "\n",
    "# Create an nlp object\n",
    "doc = nlp(\"He went to play basketball\")\n",
    "\n",
    "nlp.pipe_names"
   ]
  },
  {
   "cell_type": "markdown",
   "metadata": {},
   "source": [
    "Trong trường hợp bạn muốn vô hiệu hóa các thành phần đường ống và chỉ giữ cho trình phân tích mã thông báo hoạt động, thì bạn có thể sử dụng mã bên dưới để vô hiệu hóa các thành phần đường ống:\n",
    "\n",
    "```nlp.disable_pipes('tagger', 'parser')```"
   ]
  },
  {
   "cell_type": "code",
   "execution_count": 6,
   "metadata": {},
   "outputs": [
    {
     "data": {
      "text/plain": [
       "['tok2vec', 'attribute_ruler', 'lemmatizer', 'ner']"
      ]
     },
     "execution_count": 6,
     "metadata": {},
     "output_type": "execute_result"
    }
   ],
   "source": [
    "nlp.disable_pipe('tagger')\n",
    "nlp.disable_pipe('parser')\n",
    "\n",
    "nlp.pipe_names"
   ]
  },
  {
   "cell_type": "markdown",
   "metadata": {},
   "source": [
    "# spaCy trong hành động\n",
    "Bây giờ, hãy cùng bắt tay vào làm với spaCy. Trong phần này, bạn sẽ học cách thực hiện nhiều tác vụ NLP khác nhau bằng spaCy. Chúng ta sẽ bắt đầu với các tác vụ NLP phổ biến là Đánh dấu từ loại, Phân tích phụ thuộc và Nhận dạng thực thể có tên.\n",
    "\n",
    "## 1. Đánh dấu từ loại(Part-of-speech) (POS) bằng spaCy\n",
    "Trong ngữ pháp tiếng Anh, các thành phần của câu cho chúng ta biết chức năng của một từ là gì và cách sử dụng nó trong câu.  Một số thành phần phổ biến của câu trong tiếng Anh là Danh từ, Đại từ, Tính từ, Động từ, Trạng từ, v.v.\n",
    "\n",
    "Gắn thẻ POS là nhiệm vụ tự động gán thẻ POS cho tất cả các từ trong một câu. Nó hữu ích trong nhiều tác vụ hạ nguồn trong NLP, chẳng hạn như kỹ thuật tính năng, hiểu ngôn ngữ và trích xuất thông tin.\n",
    "\n",
    "Thực hiện gắn thẻ POS trong spaCy là việc vô cùng dễ dàng:"
   ]
  },
  {
   "cell_type": "code",
   "execution_count": 7,
   "metadata": {},
   "outputs": [
    {
     "name": "stdout",
     "output_type": "stream",
     "text": [
      "He --> PRON\n",
      "went --> VERB\n",
      "to --> PART\n",
      "play --> VERB\n",
      "basketball --> NOUN\n"
     ]
    }
   ],
   "source": [
    "import spacy \n",
    "nlp = spacy.load('en_core_web_sm')\n",
    "\n",
    "# Create an nlp object\n",
    "doc = nlp(\"He went to play basketball\")\n",
    " \n",
    "# Iterate over the tokens\n",
    "for token in doc:\n",
    "    # Print the token and its part-of-speech tag\n",
    "    print(token.text, \"-->\", token.pos_)"
   ]
  },
  {
   "cell_type": "markdown",
   "metadata": {},
   "source": [
    "Vì vậy, mô hình đã xác định đúng các thẻ POS cho tất cả các từ trong câu. Trong trường hợp bạn không chắc chắn về bất kỳ thẻ nào trong số này, thì bạn chỉ cần sử dụng spacy.explain() để tìm ra:"
   ]
  },
  {
   "cell_type": "code",
   "execution_count": 14,
   "metadata": {},
   "outputs": [
    {
     "data": {
      "text/plain": [
       "'pronoun'"
      ]
     },
     "execution_count": 14,
     "metadata": {},
     "output_type": "execute_result"
    }
   ],
   "source": [
    "spacy.explain('PRON')"
   ]
  },
  {
   "cell_type": "markdown",
   "metadata": {},
   "source": [
    "## 2. Phân tích phụ thuộc(Dependency Parsing) sử dụng spaCy\n",
    "Mỗi câu đều có cấu trúc ngữ pháp và với sự trợ giúp của phân tích phụ thuộc, chúng ta có thể trích xuất cấu trúc này. Nó cũng có thể được coi là một đồ thị có hướng, trong đó các nút tương ứng với các từ trong câu và các cạnh giữa các nút là các phụ thuộc tương ứng giữa các từ."
   ]
  },
  {
   "cell_type": "code",
   "execution_count": 15,
   "metadata": {},
   "outputs": [
    {
     "name": "stdout",
     "output_type": "stream",
     "text": [
      "He --> nsubj\n",
      "went --> ROOT\n",
      "to --> aux\n",
      "play --> advcl\n",
      "basketball --> dobj\n"
     ]
    }
   ],
   "source": [
    "for token in doc:\n",
    "    print(token.text, \"-->\", token.dep_)"
   ]
  },
  {
   "cell_type": "markdown",
   "metadata": {},
   "source": [
    "Thẻ phụ thuộc ROOT biểu thị động từ hoặc hành động chính trong câu. Các từ khác được kết nối trực tiếp hoặc gián tiếp với từ ROOT của câu. Bạn có thể tìm hiểu các thẻ khác biểu thị cho điều gì bằng cách thực thi mã bên dưới:"
   ]
  },
  {
   "cell_type": "code",
   "execution_count": 16,
   "metadata": {},
   "outputs": [
    {
     "data": {
      "text/plain": [
       "('nominal subject',\n",
       " 'root',\n",
       " 'auxiliary',\n",
       " 'adverbial clause modifier',\n",
       " 'direct object')"
      ]
     },
     "execution_count": 16,
     "metadata": {},
     "output_type": "execute_result"
    }
   ],
   "source": [
    "spacy.explain(\"nsubj\"), spacy.explain(\"ROOT\"), spacy.explain(\"aux\"), spacy.explain(\"advcl\"), spacy.explain(\"dobj\")"
   ]
  },
  {
   "attachments": {
    "image.png": {
     "image/png": "[encoded data removed]"
    }
   },
   "cell_type": "markdown",
   "metadata": {},
   "source": [
    "## 3. Nhận dạng thực thể được đặt tên bằng spaCy\n",
    "\n",
    "Trước tiên, chúng ta hãy tìm hiểu thực thể là gì. Thực thể là những từ hoặc nhóm từ biểu diễn thông tin về những thứ phổ biến như con người, địa điểm, tổ chức, v.v. Những thực thể này có tên riêng.\n",
    "\n",
    "Ví dụ, hãy xem xét câu sau:\n",
    "\n",
    "![image.png](attachment:image.png)\n",
    "\n",
    "Trong câu này, các thực thể là “Donald Trump”, “Google” và “Thành phố New York”.\n",
    "\n",
    "Bây giờ chúng ta hãy xem spaCy nhận dạng các thực thể được đặt tên trong một câu như thế nào."
   ]
  },
  {
   "cell_type": "code",
   "execution_count": 4,
   "metadata": {},
   "outputs": [
    {
     "name": "stdout",
     "output_type": "stream",
     "text": [
      "Donald -> PERSON\n",
      "Trump -> PERSON\n",
      "will -> \n",
      "meet -> \n",
      "the -> \n",
      "chairman -> \n",
      "of -> \n",
      "Google -> ORG\n",
      "in -> \n",
      "New -> GPE\n",
      "York -> GPE\n",
      "City -> GPE\n",
      "Donald Trump PERSON\n",
      "Google ORG\n",
      "New York City GPE\n"
     ]
    }
   ],
   "source": [
    "import spacy\n",
    "\n",
    "nlp = spacy.load('en_core_web_sm')\n",
    "\n",
    "text = '''Donald Trump will meet the chairman of Google in New York City'''\n",
    "\n",
    "doc = nlp(text)\n",
    "\n",
    "# Duyệt qua từng token và in thông tin thực thể\n",
    "for token in doc:\n",
    "    print(token.text, \"->\", token.ent_type_)\n",
    "\n",
    "# Duyệt qua từng thực thể và in thông tin\n",
    "for ent in doc.ents:\n",
    "    print(ent.text, ent.label_)"
   ]
  },
  {
   "cell_type": "code",
   "execution_count": 5,
   "metadata": {},
   "outputs": [
    {
     "name": "stdout",
     "output_type": "stream",
     "text": [
      "Countries, cities, states\n"
     ]
    },
    {
     "data": {
      "text/plain": [
       "'Companies, agencies, institutions, etc.'"
      ]
     },
     "execution_count": 5,
     "metadata": {},
     "output_type": "execute_result"
    }
   ],
   "source": [
    "print(spacy.explain('GPE'))\n",
    "spacy.explain('ORG')"
   ]
  },
  {
   "cell_type": "markdown",
   "metadata": {},
   "source": [
    "## 4. Rule-Based Matching using spaCy\n",
    "Rule-based matching is a new addition to spaCy’s arsenal. With this spaCy matcher, you can find words and phrases in the text using user-defined rules.\n",
    "\n",
    "Trong khi Biểu thức chính quy sử dụng các mẫu văn bản để tìm từ và cụm từ, trình so khớp spaCy không chỉ sử dụng các mẫu văn bản mà còn sử dụng các thuộc tính từ vựng của từ, chẳng hạn như thẻ POS, thẻ phụ thuộc, từ nguyên, v.v."
   ]
  },
  {
   "cell_type": "code",
   "execution_count": 9,
   "metadata": {},
   "outputs": [],
   "source": [
    "import spacy\n",
    "nlp = spacy.load('en_core_web_sm')\n",
    "\n",
    "# Import spaCy Matcher\n",
    "from spacy.matcher import Matcher\n",
    "\n",
    "# Initialize the matcher with the spaCy vocabulary\n",
    "matcher = Matcher(nlp.vocab)\n",
    "\n",
    "doc = nlp(\"Some people start their day with lemon water\")\n",
    "\n",
    "# Define rule\n",
    "pattern = [{'TEXT': 'lemon'}, {'TEXT': 'water'}]\n",
    "\n",
    "# Add rule\n",
    "matcher.add('rule_1', [pattern])"
   ]
  },
  {
   "cell_type": "markdown",
   "metadata": {},
   "source": [
    "Vì vậy, trong đoạn mã trên:\n",
    "\n",
    "- Đầu tiên, chúng ta nhập spaCy matcher\n",
    "- Sau đó, chúng tôi khởi tạo đối tượng matcher với từ vựng spaCy mặc định\n",
    "- Sau đó, chúng ta truyền dữ liệu đầu vào vào một đối tượng NLP như bình thường\n",
    "- Ở bước tiếp theo, chúng ta sẽ xác định quy tắc/mẫu cho những gì chúng ta muốn trích xuất từ ​​văn bản.\n",
    "\n",
    "Giả sử chúng ta muốn trích xuất cụm từ “nước chanh” từ văn bản. Vì vậy, mục tiêu của chúng ta là bất cứ khi nào “chanh” được theo sau bởi từ “nước”, thì trình so khớp phải có thể tìm thấy mẫu này trong văn bản. Đó chính xác là những gì chúng ta đã làm khi xác định mẫu trong mã ở trên. Cuối cùng, chúng ta thêm quy tắc đã xác định vào đối tượng trình so khớp."
   ]
  },
  {
   "cell_type": "code",
   "execution_count": 10,
   "metadata": {},
   "outputs": [
    {
     "data": {
      "text/plain": [
       "[(7604275899133490726, 6, 8)]"
      ]
     },
     "execution_count": 10,
     "metadata": {},
     "output_type": "execute_result"
    }
   ],
   "source": [
    "matches = matcher(doc)\n",
    "matches"
   ]
  },
  {
   "cell_type": "markdown",
   "metadata": {},
   "source": [
    "Đầu ra có ba phần tử. Phần tử đầu tiên, '7604275899133490726', là ID khớp. Phần tử thứ hai và thứ ba là vị trí của các mã thông báo khớp."
   ]
  },
  {
   "cell_type": "code",
   "execution_count": 11,
   "metadata": {},
   "outputs": [
    {
     "name": "stdout",
     "output_type": "stream",
     "text": [
      "lemon water\n"
     ]
    }
   ],
   "source": [
    "# Extract matched text\n",
    "for match_id, start, end in matches:\n",
    "    # Get the matched span\n",
    "    matched_span = doc[start:end]\n",
    "    print(matched_span.text)"
   ]
  },
  {
   "cell_type": "markdown",
   "metadata": {},
   "source": [
    "Vì vậy, mẫu là danh sách các thuộc tính mã thông báo. Ví dụ, 'TEXT' là một thuộc tính mã thông báo có nghĩa là văn bản chính xác của mã thông báo. Trên thực tế, có nhiều thuộc tính mã thông báo hữu ích khác trong spaCy có thể được sử dụng để xác định nhiều quy tắc và mẫu khác nhau.\n",
    "\n",
    "Tôi đã liệt kê dưới đây các thuộc tính của mã thông báo:"
   ]
  },
  {
   "cell_type": "markdown",
   "metadata": {},
   "source": [
    "| THUỘC TÍNH  | KIỂU      | SỰ MIÊU TẢ                                                            |\n",
    "|-------------|-----------|----------------------------------------------------------------------|\n",
    "| ORTH        | unicode    | Văn bản nguyên văn chính xác của một mã thông báo.                   |\n",
    "| TEXT        | unicode    | Văn bản nguyên văn chính xác của một mã thông báo.                   |\n",
    "| LOWER       | unicode    | Dạng chữ thường của văn bản mã thông báo.                            |\n",
    "| LENGTH      | int | Độ dài của văn bản mã thông báo.                                     |\n",
    "| IS_ALPHA    | bool      | Văn bản mã thông báo bao gồm các ký tự chữ cái.                      |\n",
    "| IS_ASCII    | bool      | Văn bản mã thông báo bao gồm các ký tự ASCII.                        |\n",
    "| IS_DIGIT    | bool      | Văn bản mã thông báo bao gồm các chữ số.                             |\n",
    "| IS_LOWER    | bool      | Văn bản mã thông báo được viết bằng chữ thường.                      |\n",
    "| IS_UPPER    | bool      | Văn bản mã thông báo được viết bằng chữ hoa.                         |\n",
    "| IS_TITLE    | bool      | Văn bản mã thông báo được viết hoa chữ cái đầu tiên.                 |\n",
    "| IS_PUNCT    | bool      | Văn bản mã thông báo là dấu câu.                                     |\n",
    "| IS_SPACE    | bool      | Văn bản mã thông báo là khoảng trắng.                                |\n",
    "| IS_STOP     | bool      | Văn bản mã thông báo là từ dừng.                                     |\n",
    "| LIKE_NUM    | bool      | Văn bản mã thông báo giống như một con số.                           |\n",
    "| LIKE_URL    | bool      | Văn bản mã thông báo giống như một URL.                              |\n",
    "| LIKE_EMAIL  | bool      | Văn bản mã thông báo giống như một email.                            |\n",
    "| POS         | unicode    | Thẻ từ loại đơn giản của mã thông báo.                               |\n",
    "| TAG         | unicode    | Thẻ từ loại mở rộng của mã thông báo.                                |\n",
    "| DEP         | unicode    | Nhãn phụ thuộc của mã thông báo.                                     |\n",
    "| LEMMA       | unicode    | Từ nguyên của mã thông báo.                                          |\n",
    "| SHAPE       | unicode    | Hình dạng của mã thông báo.                                          |\n",
    "| ENT_TYPE    | unicode    | Nhãn thực thể của mã thông báo.                                      |\n"
   ]
  },
  {
   "cell_type": "markdown",
   "metadata": {},
   "source": []
  }
 ],
 "metadata": {
  "kernelspec": {
   "display_name": "dlpytorch",
   "language": "python",
   "name": "python3"
  },
  "language_info": {
   "codemirror_mode": {
    "name": "ipython",
    "version": 3
   },
   "file_extension": ".py",
   "mimetype": "text/x-python",
   "name": "python",
   "nbconvert_exporter": "python",
   "pygments_lexer": "ipython3",
   "version": "3.10.12"
  }
 },
 "nbformat": 4,
 "nbformat_minor": 2
}
